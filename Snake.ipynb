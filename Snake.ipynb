{
 "cells": [
  {
   "cell_type": "code",
   "execution_count": 1,
   "metadata": {},
   "outputs": [
    {
     "name": "stdout",
     "output_type": "stream",
     "text": [
      "pygame 1.9.6\n",
      "Hello from the pygame community. https://www.pygame.org/contribute.html\n"
     ]
    },
    {
     "name": "stderr",
     "output_type": "stream",
     "text": [
      "Using TensorFlow backend.\n"
     ]
    }
   ],
   "source": [
    "import pygame\n",
    "import time\n",
    "import random\n",
    "from dqn_agent import DQNAgent\n",
    "\n",
    "pygame.init()\n",
    "pygame.display.init()\n",
    "white = (255, 255, 255)\n",
    "yellow = (255, 255, 102)\n",
    "black = (0, 0, 0)\n",
    "red = (213, 50, 80)\n",
    "green = (0, 255, 0)\n",
    "blue = (50, 153, 213)\n",
    " \n",
    "dis_width = 600\n",
    "dis_height = 400\n",
    " \n",
    "dis = pygame.display.set_mode((dis_width, dis_height))\n",
    "pygame.display.set_caption('Snake Game by Edureka')\n",
    " \n",
    "clock = pygame.time.Clock()\n",
    " \n",
    "snake_block = 10\n",
    "snake_speed = 50\n",
    " \n",
    "font_style = pygame.font.SysFont(\"bahnschrift\", 25)\n",
    "score_font = pygame.font.SysFont(\"comicsansms\", 35)\n",
    " \n",
    " \n",
    "def Your_score(score):\n",
    "    value = score_font.render(\"Your Score: \" + str(score), True, yellow)\n",
    "    dis.blit(value, [0, 0])\n",
    " \n",
    " \n",
    " \n",
    "def our_snake(snake_block, snake_list):\n",
    "    for x in snake_list:\n",
    "        pygame.draw.rect(dis, black, [x[0], x[1], snake_block, snake_block])\n",
    " \n",
    " \n",
    "def message(msg, color):\n",
    "    mesg = font_style.render(msg, True, color)\n",
    "    dis.blit(mesg, [dis_width / 6, dis_height / 3])\n",
    " \n",
    "def make_array(snake_List, foodx, foody):\n",
    "    # 0 indicates empty space, 1 indicates snakes body, 2 indicates food\n",
    "    board = []\n",
    "    for x in range(0, dis_width + 10, 10):\n",
    "        for y in range(0, dis_height + 10, 10):\n",
    "            if [x, y] in snake_List:\n",
    "                board.append(1)\n",
    "            elif x == foodx and y == foody:\n",
    "                board.append(2)\n",
    "            else:\n",
    "                board.append(0)\n",
    "    return board\n",
    "\n",
    "state_size = 2501\n",
    "action_size = 4\n",
    "learning_rate = 0.1\n",
    "discount_rate = 0.95\n",
    "epsilon = 1.00\n",
    "epsilon_decay = 0.9999\n",
    "epsilon_min = 0.01\n",
    "batch_size = 25\n",
    "agent = DQNAgent(state_size, action_size, learning_rate, discount_rate, epsilon, epsilon_min, epsilon_decay)\n",
    "\n",
    "def gameLoop(e):\n",
    "    game_over = False\n",
    "    game_close = False\n",
    "    e = e + 1\n",
    "    x1 = dis_width / 2\n",
    "    y1 = dis_height / 2\n",
    " \n",
    "    x1_change = 0\n",
    "    y1_change = 0\n",
    "    directions = [\"left\", \"right\", \"up\", \"down\"]\n",
    "    snake_List = [[x1, y1]]\n",
    "    Length_of_snake = 1\n",
    " \n",
    "    foodx = round(random.randrange(0, dis_width - snake_block) / 10.0) * 10.0\n",
    "    foody = round(random.randrange(0, dis_height - snake_block) / 10.0) * 10.0\n",
    "    \n",
    "    run = 0\n",
    "    while not game_over:\n",
    "        board = make_array(snake_List, foodx, foody)\n",
    "        print(run)\n",
    "        if game_close == True:\n",
    "            gameLoop(e)\n",
    "#             dis.fill(blue)\n",
    "#             message(\"You Lost! Press C-Play Again or Q-Quit\", red)\n",
    "#             Your_score(Length_of_snake - 1)\n",
    "#             pygame.display.update()\n",
    " \n",
    "#             for event in pygame.event.get():\n",
    "#                 if event.type == pygame.KEYDOWN:\n",
    "#                     if event.key == pygame.K_q:\n",
    "#                         game_over = True\n",
    "#                         game_close = False\n",
    "#                     if event.key == pygame.K_c:\n",
    "#                         gameLoop()\n",
    " \n",
    "        #for event in pygame.event.get():\n",
    "            #if event.type == pygame.QUIT:\n",
    "            #    game_over = True\n",
    "            #if event.type == pygame.KEYDOWN:\n",
    "        reward = -1\n",
    "        action = agent.act(board)\n",
    "        if directions[action]== \"left\":\n",
    "            x1_change = -snake_block\n",
    "            y1_change = 0\n",
    "        elif directions[action]== \"right\":\n",
    "            x1_change = snake_block\n",
    "            y1_change = 0\n",
    "        elif directions[action]== \"up\":\n",
    "            y1_change = -snake_block\n",
    "            x1_change = 0\n",
    "        elif directions[action]== \"down\":\n",
    "            y1_change = snake_block\n",
    "            x1_change = 0\n",
    " \n",
    "        if x1 >= dis_width or x1 < 0 or y1 >= dis_height or y1 < 0:\n",
    "            reward -= 1000\n",
    "            game_close = True\n",
    "        x1_old = x1\n",
    "        y1_old = y1\n",
    "        x1 += x1_change\n",
    "        y1 += y1_change\n",
    "        dis.fill(blue)\n",
    "        pygame.draw.rect(dis, green, [foodx, foody, snake_block, snake_block])\n",
    "        snake_Head = []\n",
    "        snake_Head.append(x1)\n",
    "        snake_Head.append(y1)\n",
    "        snake_List.append(snake_Head)\n",
    "        if len(snake_List) > Length_of_snake:\n",
    "            del snake_List[0]\n",
    " \n",
    "        for x in snake_List[:-1]:\n",
    "            if x == snake_Head:\n",
    "                reward -= 1000\n",
    "                game_close = True\n",
    " \n",
    "        our_snake(snake_block, snake_List)\n",
    "        Your_score(Length_of_snake - 1)\n",
    " \n",
    "        pygame.display.update()\n",
    "        if not game_close:\n",
    "            reward += (foodx - x1_old)**2 - (foodx - x1)**2 + (foody - y1_old)**2 - (foody - y1)**2\n",
    "        if x1 == foodx and y1 == foody:\n",
    "            foodx = round(random.randrange(0, dis_width - snake_block) / 10.0) * 10.0\n",
    "            foody = round(random.randrange(0, dis_height - snake_block) / 10.0) * 10.0\n",
    "            Length_of_snake += 1\n",
    "            #rint(snake_List)\n",
    "        new_board = make_array(snake_List, foodx, foody)\n",
    "        agent.remember(board, action, reward, new_board, game_close)\n",
    "        if e > batch_size:\n",
    "            agent.replay(batch_size)\n",
    "        clock.tick(snake_speed)\n",
    "        run += 1\n",
    "    pygame.quit()\n",
    "    quit()\n",
    "e = 0\n",
    "for event in pygame.event.get():\n",
    "    if event.type == pygame.KEYDOWN:\n",
    "        gameLoop(e)"
   ]
  },
  {
   "cell_type": "code",
   "execution_count": 4,
   "metadata": {},
   "outputs": [
    {
     "data": {
      "text/plain": [
       "2501"
      ]
     },
     "execution_count": 4,
     "metadata": {},
     "output_type": "execute_result"
    }
   ],
   "source": [
    "board = []\n",
    "dis_width = 600\n",
    "dis_height = 400\n",
    "#snake_List = \n",
    "for x in range(0, dis_width + 10, 10):\n",
    "    for y in range(0, dis_height + 10, 10):\n",
    "        \n",
    "        board.append(0)\n",
    "len(board)"
   ]
  },
  {
   "cell_type": "code",
   "execution_count": 6,
   "metadata": {},
   "outputs": [
    {
     "data": {
      "text/plain": [
       "13"
      ]
     },
     "execution_count": 6,
     "metadata": {},
     "output_type": "execute_result"
    }
   ],
   "source": [
    "(5 - 3)**2 + (7 - 4)**2"
   ]
  },
  {
   "cell_type": "code",
   "execution_count": null,
   "metadata": {},
   "outputs": [],
   "source": []
  }
 ],
 "metadata": {
  "kernelspec": {
   "display_name": "Python 3",
   "language": "python",
   "name": "python3"
  },
  "language_info": {
   "codemirror_mode": {
    "name": "ipython",
    "version": 3
   },
   "file_extension": ".py",
   "mimetype": "text/x-python",
   "name": "python",
   "nbconvert_exporter": "python",
   "pygments_lexer": "ipython3",
   "version": "3.7.6"
  }
 },
 "nbformat": 4,
 "nbformat_minor": 4
}
